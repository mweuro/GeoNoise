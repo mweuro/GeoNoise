{
 "cells": [
  {
   "cell_type": "code",
   "execution_count": 10,
   "metadata": {},
   "outputs": [],
   "source": [
    "import geopandas as gpd\n",
    "import matplotlib.pyplot as plt\n",
    "from shapely import wkt\n",
    "from shapely.geometry import Polygon\n",
    "import pandas as pd\n",
    "import osmnx as ox\n",
    "from shapely.ops import split\n",
    "import geopandas\n",
    "from shapely.geometry import MultiPolygon, Polygon\n",
    "from shapely.geometry import LineString\n",
    "import numpy as np"
   ]
  },
  {
   "cell_type": "markdown",
   "metadata": {},
   "source": [
    "Ladowanie danych, sprowadzenie do jednego crs i przycinanie"
   ]
  },
  {
   "cell_type": "code",
   "execution_count": 187,
   "metadata": {},
   "outputs": [],
   "source": [
    "pictures = gpd.read_file(\"data/podzial_na_obrazki.csv\")\n",
    "noise = gpd.read_file(\"data/noise.zip\")\n",
    "transport_lines = gpd.read_file(\"data/transport_lines.zip\")\n",
    "\n",
    "city = \"Praha\"\n",
    "roads = ox.graph_from_place(city, network_type=\"drive\")\n",
    "roads = ox.graph_to_gdfs(roads, nodes=False, edges=True)"
   ]
  },
  {
   "cell_type": "code",
   "execution_count": 188,
   "metadata": {},
   "outputs": [],
   "source": [
    "default_crs = noise.crs"
   ]
  },
  {
   "cell_type": "code",
   "execution_count": 189,
   "metadata": {},
   "outputs": [
    {
     "name": "stdout",
     "output_type": "stream",
     "text": [
      "default crs:  EPSG:5514\n",
      "noise crs:  EPSG:5514\n",
      "roads crs:  EPSG:5514\n",
      "transport_lines crs:  EPSG:5514\n"
     ]
    }
   ],
   "source": [
    "#sprowadzenie wszystkiego do jednego crs\n",
    "noise = noise.to_crs(default_crs)\n",
    "roads = roads.to_crs(default_crs)\n",
    "transport_lines = transport_lines.to_crs(default_crs)\n",
    "\n",
    "print(\"default crs: \", default_crs)\n",
    "print(\"noise crs: \", noise.crs)\n",
    "print(\"roads crs: \", roads.crs)\n",
    "print(\"transport_lines crs: \", transport_lines.crs)"
   ]
  },
  {
   "cell_type": "code",
   "execution_count": 190,
   "metadata": {},
   "outputs": [
    {
     "name": "stderr",
     "output_type": "stream",
     "text": [
      "C:\\Users\\kajet\\AppData\\Local\\Temp\\ipykernel_8628\\4229401385.py:1: DeprecationWarning: The 'unary_union' attribute is deprecated, use the 'union_all()' method instead.\n",
      "  noise_bounds = noise.unary_union\n"
     ]
    }
   ],
   "source": [
    "noise_bounds = noise.unary_union"
   ]
  },
  {
   "cell_type": "code",
   "execution_count": 191,
   "metadata": {},
   "outputs": [],
   "source": [
    "#przyciecie wszystko do halasu jaki mamy\n",
    "transport_lines = gpd.clip(transport_lines, noise_bounds)\n",
    "roads = gpd.clip(roads, noise_bounds)"
   ]
  },
  {
   "cell_type": "markdown",
   "metadata": {},
   "source": [
    "Definiowanie wszystkich funkcji pomocniczych"
   ]
  },
  {
   "cell_type": "code",
   "execution_count": 6,
   "metadata": {},
   "outputs": [],
   "source": [
    "def parse_polygon(polygon_string):\n",
    "    try:\n",
    "        # Remove \"POLYGON ((\" and \"))\", then split coordinates\n",
    "        coords_string = polygon_string.replace(\"POLYGON ((\", \"\").replace(\"))\", \"\")\n",
    "        coords = [\n",
    "            tuple(map(float, coord.split()))  # Convert each pair into a tuple of floats\n",
    "            for coord in coords_string.split(\", \")\n",
    "        ]\n",
    "        return Polygon(coords)  # Create Shapely Polygon\n",
    "    except Exception as e:\n",
    "        # Handle errors (e.g., malformed strings)\n",
    "        print(f\"Error parsing polygon: {polygon_string}, error: {e}\")\n",
    "        return None"
   ]
  },
  {
   "cell_type": "code",
   "execution_count": 12,
   "metadata": {},
   "outputs": [],
   "source": [
    "#funkcje do dzielenia zdjecia na piksele\n",
    "def get_squares_from_rect(RectangularPolygon, side_length=0.0025):\n",
    "    \"\"\"\n",
    "    Divide a Rectangle (Shapely Polygon) into squares of equal area.\n",
    "\n",
    "    `side_length` : required side of square\n",
    "\n",
    "    \"\"\"\n",
    "    rect_coords = np.array(RectangularPolygon.boundary.coords.xy)\n",
    "    y_list = rect_coords[1]\n",
    "    x_list = rect_coords[0]\n",
    "    y1 = min(y_list)\n",
    "    y2 = max(y_list)\n",
    "    x1 = min(x_list)\n",
    "    x2 = max(x_list)\n",
    "    width = x2 - x1\n",
    "    height = y2 - y1\n",
    "\n",
    "    xcells = int(np.round(width / side_length))\n",
    "    ycells = int(np.round(height / side_length))\n",
    "\n",
    "    yindices = np.linspace(y1, y2, ycells + 1)\n",
    "    xindices = np.linspace(x1, x2, xcells + 1)\n",
    "    horizontal_splitters = [\n",
    "        LineString([(x, yindices[0]), (x, yindices[-1])]) for x in xindices\n",
    "    ]\n",
    "    vertical_splitters = [\n",
    "        LineString([(xindices[0], y), (xindices[-1], y)]) for y in yindices\n",
    "    ]\n",
    "    result = RectangularPolygon\n",
    "    for splitter in vertical_splitters:\n",
    "        result = MultiPolygon(split(result, splitter))\n",
    "    for splitter in horizontal_splitters:\n",
    "        result = MultiPolygon(split(result, splitter))\n",
    "    square_polygons = list(result.geoms)\n",
    "\n",
    "    return square_polygons\n",
    "\n",
    "#number of pixel on side to A dla obrazku o wymiarach AxA, zdjecie ma AxA pikseli\n",
    "def split_polygon(G, number_of_pixels_on_side = 100, thresh=0.99):\n",
    "    side_length = int(1500 / number_of_pixels_on_side)\n",
    "    assert side_length>0, \"side_length must be a float>0\"\n",
    "    Rectangle    = G.envelope\n",
    "    squares      = get_squares_from_rect(Rectangle, side_length=side_length)\n",
    "    SquareGeoDF  = geopandas.GeoDataFrame(squares).rename(columns={0: \"geometry\"})\n",
    "    SquareGeoDF.set_geometry('geometry', inplace=True)\n",
    "    Geoms        = SquareGeoDF[SquareGeoDF.intersects(G)].geometry.values\n",
    "    geoms = [g for g in Geoms if ((g.intersection(G)).area / g.area) >= thresh]\n",
    "    return geoms"
   ]
  },
  {
   "cell_type": "code",
   "execution_count": 13,
   "metadata": {},
   "outputs": [],
   "source": [
    "def calculate_weighted_db(pixel, noise_gdf):\n",
    "    total_area = pixel.area  # Total area of the square\n",
    "    weighted_sum = 0  # Weighted sum of DB_HI\n",
    "    total_weight = 0  # Total weight (should sum to 1 if fully covered)\n",
    "\n",
    "    for _, noise in noise_gdf.iterrows():\n",
    "        # Calculate intersection geometry between pixel and noise polygon\n",
    "        intersection = pixel.intersection(noise.geometry)\n",
    "\n",
    "        # If there's an intersection, calculate the weight and add to the weighted sum\n",
    "        if intersection.is_valid and not intersection.is_empty:\n",
    "            intersection_area = intersection.area\n",
    "            weight = intersection_area / total_area  # Weight based on area covered\n",
    "            weighted_sum += weight * noise[\"DB_HI\"]\n",
    "            total_weight += weight\n",
    "\n",
    "    # Return the weighted average, default to 0 if there's no coverage\n",
    "    return weighted_sum if total_weight > 0 else 0"
   ]
  },
  {
   "cell_type": "code",
   "execution_count": 49,
   "metadata": {},
   "outputs": [],
   "source": [
    "def round_to_nearest_5(value):\n",
    "    return round(value / 5) * 5"
   ]
  },
  {
   "cell_type": "code",
   "execution_count": 199,
   "metadata": {},
   "outputs": [],
   "source": [
    "def create_pixels_gdf(picture):\n",
    "    pixels = split_polygon(picture, number_of_pixels_on_side = 25, thresh=0.99)\n",
    "    pixels = geopandas.GeoDataFrame(pixels).rename(columns={0: \"geometry\"})\n",
    "    pixels.set_geometry('geometry', inplace=True)\n",
    "    pixels.set_crs(default_crs, inplace=True)\n",
    "    return pixels"
   ]
  },
  {
   "cell_type": "code",
   "execution_count": 193,
   "metadata": {},
   "outputs": [],
   "source": [
    "def extract_max_speed(maxspeed):\n",
    "    if isinstance(maxspeed, list):  \n",
    "        # Convert list to numeric, drop NaN, take the highest value\n",
    "        maxspeed_values = pd.to_numeric(maxspeed, errors=\"coerce\")\n",
    "        return max(maxspeed_values, default=40)  # Return highest speed or 40 if empty\n",
    "    elif pd.isna(maxspeed):  # If NaN, return 40\n",
    "        return 40\n",
    "    value = pd.to_numeric(maxspeed, errors=\"coerce\")\n",
    "    if pd.isna(value):\n",
    "        return 40\n",
    "    return value  "
   ]
  },
  {
   "cell_type": "code",
   "execution_count": 180,
   "metadata": {},
   "outputs": [],
   "source": [
    "def get_max_speed(pixel, roads_for_picture):\n",
    "    intersecting_roads = roads_for_picture[roads_for_picture.geometry.intersects(pixel)]\n",
    "    \n",
    "    if not intersecting_roads.empty:\n",
    "        # Convert 'maxspeed' column to numeric, handle missing values, and find the max\n",
    "        return pd.to_numeric(intersecting_roads[\"maxspeed\"], errors=\"coerce\").max(skipna=True)\n",
    "    \n",
    "    return 0  # If no road is found in the square"
   ]
  },
  {
   "cell_type": "markdown",
   "metadata": {},
   "source": [
    "Szybkie przyszykowanie datasetow"
   ]
  },
  {
   "cell_type": "code",
   "execution_count": 194,
   "metadata": {},
   "outputs": [],
   "source": [
    "#czyszczenie kolumny maxspeed z list, zostaje pojedyncze wartosci\n",
    "roads[\"maxspeed\"] = roads[\"maxspeed\"].apply(extract_max_speed)"
   ]
  },
  {
   "cell_type": "code",
   "execution_count": 195,
   "metadata": {},
   "outputs": [
    {
     "data": {
      "text/plain": [
       "array([ 40.,  30.,  90.,  50.,  20.,  80., 130., 100.,  70., 110.,  60.,\n",
       "        15.,   5.])"
      ]
     },
     "execution_count": 195,
     "metadata": {},
     "output_type": "execute_result"
    }
   ],
   "source": [
    "roads[\"maxspeed\"].unique()"
   ]
  },
  {
   "cell_type": "code",
   "execution_count": 196,
   "metadata": {},
   "outputs": [
    {
     "data": {
      "text/plain": [
       "np.int64(0)"
      ]
     },
     "execution_count": 196,
     "metadata": {},
     "output_type": "execute_result"
    }
   ],
   "source": [
    "roads[\"maxspeed\"].isna().sum()\n"
   ]
  },
  {
   "cell_type": "code",
   "execution_count": 134,
   "metadata": {},
   "outputs": [],
   "source": [
    "pictures = gpd.GeoDataFrame(pictures).rename(columns={0: \"geometry\"})\n",
    "pictures[\"geometry\"] = pictures[\"geometry\"].apply(parse_polygon)\n",
    "pictures.set_geometry('geometry', inplace=True)"
   ]
  },
  {
   "cell_type": "code",
   "execution_count": 135,
   "metadata": {},
   "outputs": [
    {
     "data": {
      "text/plain": [
       "geometry    geometry\n",
       "dtype: object"
      ]
     },
     "execution_count": 135,
     "metadata": {},
     "output_type": "execute_result"
    }
   ],
   "source": [
    "pictures.dtypes"
   ]
  },
  {
   "cell_type": "code",
   "execution_count": 136,
   "metadata": {},
   "outputs": [
    {
     "data": {
      "text/html": [
       "<div>\n",
       "<style scoped>\n",
       "    .dataframe tbody tr th:only-of-type {\n",
       "        vertical-align: middle;\n",
       "    }\n",
       "\n",
       "    .dataframe tbody tr th {\n",
       "        vertical-align: top;\n",
       "    }\n",
       "\n",
       "    .dataframe thead th {\n",
       "        text-align: right;\n",
       "    }\n",
       "</style>\n",
       "<table border=\"1\" class=\"dataframe\">\n",
       "  <thead>\n",
       "    <tr style=\"text-align: right;\">\n",
       "      <th></th>\n",
       "      <th>geometry</th>\n",
       "    </tr>\n",
       "  </thead>\n",
       "  <tbody>\n",
       "    <tr>\n",
       "      <th>0</th>\n",
       "      <td>POLYGON ((-746187.429 -1058799.6, -747663.568 ...</td>\n",
       "    </tr>\n",
       "    <tr>\n",
       "      <th>1</th>\n",
       "      <td>POLYGON ((-747663.568 -1058799.6, -749139.707 ...</td>\n",
       "    </tr>\n",
       "    <tr>\n",
       "      <th>2</th>\n",
       "      <td>POLYGON ((-749139.707 -1058799.6, -750615.845 ...</td>\n",
       "    </tr>\n",
       "    <tr>\n",
       "      <th>3</th>\n",
       "      <td>POLYGON ((-750615.845 -1058799.6, -752091.984 ...</td>\n",
       "    </tr>\n",
       "    <tr>\n",
       "      <th>4</th>\n",
       "      <td>POLYGON ((-752091.984 -1055715.058, -750615.84...</td>\n",
       "    </tr>\n",
       "    <tr>\n",
       "      <th>...</th>\n",
       "      <td>...</td>\n",
       "    </tr>\n",
       "    <tr>\n",
       "      <th>257</th>\n",
       "      <td>POLYGON ((-740282.874 -1034123.26, -738806.736...</td>\n",
       "    </tr>\n",
       "    <tr>\n",
       "      <th>258</th>\n",
       "      <td>POLYGON ((-738806.736 -1034123.26, -737330.597...</td>\n",
       "    </tr>\n",
       "    <tr>\n",
       "      <th>259</th>\n",
       "      <td>POLYGON ((-737330.597 -1034123.26, -735854.458...</td>\n",
       "    </tr>\n",
       "    <tr>\n",
       "      <th>260</th>\n",
       "      <td>POLYGON ((-735854.458 -1034123.26, -734378.32 ...</td>\n",
       "    </tr>\n",
       "    <tr>\n",
       "      <th>261</th>\n",
       "      <td>POLYGON ((-734378.32 -1034123.26, -732902.181 ...</td>\n",
       "    </tr>\n",
       "  </tbody>\n",
       "</table>\n",
       "<p>262 rows × 1 columns</p>\n",
       "</div>"
      ],
      "text/plain": [
       "                                              geometry\n",
       "0    POLYGON ((-746187.429 -1058799.6, -747663.568 ...\n",
       "1    POLYGON ((-747663.568 -1058799.6, -749139.707 ...\n",
       "2    POLYGON ((-749139.707 -1058799.6, -750615.845 ...\n",
       "3    POLYGON ((-750615.845 -1058799.6, -752091.984 ...\n",
       "4    POLYGON ((-752091.984 -1055715.058, -750615.84...\n",
       "..                                                 ...\n",
       "257  POLYGON ((-740282.874 -1034123.26, -738806.736...\n",
       "258  POLYGON ((-738806.736 -1034123.26, -737330.597...\n",
       "259  POLYGON ((-737330.597 -1034123.26, -735854.458...\n",
       "260  POLYGON ((-735854.458 -1034123.26, -734378.32 ...\n",
       "261  POLYGON ((-734378.32 -1034123.26, -732902.181 ...\n",
       "\n",
       "[262 rows x 1 columns]"
      ]
     },
     "execution_count": 136,
     "metadata": {},
     "output_type": "execute_result"
    }
   ],
   "source": [
    "pictures"
   ]
  },
  {
   "cell_type": "code",
   "execution_count": 137,
   "metadata": {},
   "outputs": [
    {
     "data": {
      "text/html": [
       "<div>\n",
       "<style scoped>\n",
       "    .dataframe tbody tr th:only-of-type {\n",
       "        vertical-align: middle;\n",
       "    }\n",
       "\n",
       "    .dataframe tbody tr th {\n",
       "        vertical-align: top;\n",
       "    }\n",
       "\n",
       "    .dataframe thead th {\n",
       "        text-align: right;\n",
       "    }\n",
       "</style>\n",
       "<table border=\"1\" class=\"dataframe\">\n",
       "  <thead>\n",
       "    <tr style=\"text-align: right;\">\n",
       "      <th></th>\n",
       "      <th>geometry</th>\n",
       "    </tr>\n",
       "  </thead>\n",
       "  <tbody>\n",
       "    <tr>\n",
       "      <th>0</th>\n",
       "      <td>POLYGON ((-746187.429 -1058799.6, -747663.568 ...</td>\n",
       "    </tr>\n",
       "    <tr>\n",
       "      <th>1</th>\n",
       "      <td>POLYGON ((-747663.568 -1058799.6, -749139.707 ...</td>\n",
       "    </tr>\n",
       "    <tr>\n",
       "      <th>2</th>\n",
       "      <td>POLYGON ((-749139.707 -1058799.6, -750615.845 ...</td>\n",
       "    </tr>\n",
       "    <tr>\n",
       "      <th>3</th>\n",
       "      <td>POLYGON ((-750615.845 -1058799.6, -752091.984 ...</td>\n",
       "    </tr>\n",
       "    <tr>\n",
       "      <th>4</th>\n",
       "      <td>POLYGON ((-752091.984 -1055715.058, -750615.84...</td>\n",
       "    </tr>\n",
       "  </tbody>\n",
       "</table>\n",
       "</div>"
      ],
      "text/plain": [
       "                                            geometry\n",
       "0  POLYGON ((-746187.429 -1058799.6, -747663.568 ...\n",
       "1  POLYGON ((-747663.568 -1058799.6, -749139.707 ...\n",
       "2  POLYGON ((-749139.707 -1058799.6, -750615.845 ...\n",
       "3  POLYGON ((-750615.845 -1058799.6, -752091.984 ...\n",
       "4  POLYGON ((-752091.984 -1055715.058, -750615.84..."
      ]
     },
     "execution_count": 137,
     "metadata": {},
     "output_type": "execute_result"
    }
   ],
   "source": [
    "temp_pictures = pictures.head(5)\n",
    "temp_pictures"
   ]
  },
  {
   "cell_type": "markdown",
   "metadata": {},
   "source": [
    "petla tworzenia datasetu"
   ]
  },
  {
   "cell_type": "code",
   "execution_count": 138,
   "metadata": {},
   "outputs": [],
   "source": [
    "for i, picture in enumerate(temp_pictures['geometry']):\n",
    "    noise_for_picture = gpd.clip(noise, picture)\n",
    "    roads_for_picture = gpd.clip(roads, picture)\n",
    "    transport_lines_for_picture = gpd.clip(transport_lines, picture)\n",
    "    \n",
    "    pixels = create_pixels_gdf(picture)\n",
    "\n",
    "    #liczenie wzonego halasu dla kazdego piksela\n",
    "    pixels[\"weighted_db_hi\"] = pixels.geometry.apply(lambda pixel: calculate_weighted_db(pixel, noise_for_picture))\n",
    "    pixels[\"weighted_db_hi\"] = pixels[\"weighted_db_hi\"].apply(round_to_nearest_5)\n",
    "    #droga z max predkoscia na pixeulu\n",
    "    pixels[\"max_speed\"] = pixels[\"geometry\"].apply(lambda pixel: get_max_speed(pixel, roads_for_picture))\n",
    "    \n",
    "    #czy pixel posiada transport line\n",
    "    pixels['has_transport_line'] = pixels.geometry.apply(lambda pixel: transport_lines_for_picture.geometry.intersects(pixel).any())\n",
    "    #pixels.drop(columns=\"geometry\").to_csv(f\"data/pictures/picture_{i}.csv\", index=False)\n",
    "    pixels.to_file(f\"data/pictures/picture_{i}.geojson\", driver=\"GeoJSON\")"
   ]
  },
  {
   "cell_type": "markdown",
   "metadata": {},
   "source": [
    "Przykladowy odczyt"
   ]
  },
  {
   "cell_type": "code",
   "execution_count": 139,
   "metadata": {},
   "outputs": [],
   "source": [
    "read_pixels = gpd.read_file(\"data/pictures/picture_0.geojson\")"
   ]
  },
  {
   "cell_type": "code",
   "execution_count": 140,
   "metadata": {},
   "outputs": [
    {
     "data": {
      "text/html": [
       "<div>\n",
       "<style scoped>\n",
       "    .dataframe tbody tr th:only-of-type {\n",
       "        vertical-align: middle;\n",
       "    }\n",
       "\n",
       "    .dataframe tbody tr th {\n",
       "        vertical-align: top;\n",
       "    }\n",
       "\n",
       "    .dataframe thead th {\n",
       "        text-align: right;\n",
       "    }\n",
       "</style>\n",
       "<table border=\"1\" class=\"dataframe\">\n",
       "  <thead>\n",
       "    <tr style=\"text-align: right;\">\n",
       "      <th></th>\n",
       "      <th>weighted_db_hi</th>\n",
       "      <th>max_speed</th>\n",
       "      <th>has_transport_line</th>\n",
       "      <th>geometry</th>\n",
       "    </tr>\n",
       "  </thead>\n",
       "  <tbody>\n",
       "    <tr>\n",
       "      <th>0</th>\n",
       "      <td>0</td>\n",
       "      <td>0.0</td>\n",
       "      <td>False</td>\n",
       "      <td>POLYGON ((-746187.429 -1058799.6, -746246.475 ...</td>\n",
       "    </tr>\n",
       "    <tr>\n",
       "      <th>1</th>\n",
       "      <td>0</td>\n",
       "      <td>0.0</td>\n",
       "      <td>False</td>\n",
       "      <td>POLYGON ((-746246.475 -1058799.6, -746305.52 -...</td>\n",
       "    </tr>\n",
       "    <tr>\n",
       "      <th>2</th>\n",
       "      <td>0</td>\n",
       "      <td>0.0</td>\n",
       "      <td>False</td>\n",
       "      <td>POLYGON ((-746305.52 -1058799.6, -746364.566 -...</td>\n",
       "    </tr>\n",
       "    <tr>\n",
       "      <th>3</th>\n",
       "      <td>0</td>\n",
       "      <td>0.0</td>\n",
       "      <td>False</td>\n",
       "      <td>POLYGON ((-746364.566 -1058799.6, -746423.611 ...</td>\n",
       "    </tr>\n",
       "    <tr>\n",
       "      <th>4</th>\n",
       "      <td>0</td>\n",
       "      <td>0.0</td>\n",
       "      <td>False</td>\n",
       "      <td>POLYGON ((-746423.611 -1058799.6, -746482.657 ...</td>\n",
       "    </tr>\n",
       "    <tr>\n",
       "      <th>...</th>\n",
       "      <td>...</td>\n",
       "      <td>...</td>\n",
       "      <td>...</td>\n",
       "      <td>...</td>\n",
       "    </tr>\n",
       "    <tr>\n",
       "      <th>645</th>\n",
       "      <td>0</td>\n",
       "      <td>0.0</td>\n",
       "      <td>False</td>\n",
       "      <td>POLYGON ((-746482.657 -1057257.329, -746423.61...</td>\n",
       "    </tr>\n",
       "    <tr>\n",
       "      <th>646</th>\n",
       "      <td>0</td>\n",
       "      <td>0.0</td>\n",
       "      <td>False</td>\n",
       "      <td>POLYGON ((-746423.611 -1057257.329, -746364.56...</td>\n",
       "    </tr>\n",
       "    <tr>\n",
       "      <th>647</th>\n",
       "      <td>0</td>\n",
       "      <td>0.0</td>\n",
       "      <td>False</td>\n",
       "      <td>POLYGON ((-746364.566 -1057257.329, -746305.52...</td>\n",
       "    </tr>\n",
       "    <tr>\n",
       "      <th>648</th>\n",
       "      <td>0</td>\n",
       "      <td>0.0</td>\n",
       "      <td>False</td>\n",
       "      <td>POLYGON ((-746305.52 -1057257.329, -746246.475...</td>\n",
       "    </tr>\n",
       "    <tr>\n",
       "      <th>649</th>\n",
       "      <td>0</td>\n",
       "      <td>0.0</td>\n",
       "      <td>False</td>\n",
       "      <td>POLYGON ((-746246.475 -1057257.329, -746187.42...</td>\n",
       "    </tr>\n",
       "  </tbody>\n",
       "</table>\n",
       "<p>650 rows × 4 columns</p>\n",
       "</div>"
      ],
      "text/plain": [
       "     weighted_db_hi  max_speed  has_transport_line  \\\n",
       "0                 0        0.0               False   \n",
       "1                 0        0.0               False   \n",
       "2                 0        0.0               False   \n",
       "3                 0        0.0               False   \n",
       "4                 0        0.0               False   \n",
       "..              ...        ...                 ...   \n",
       "645               0        0.0               False   \n",
       "646               0        0.0               False   \n",
       "647               0        0.0               False   \n",
       "648               0        0.0               False   \n",
       "649               0        0.0               False   \n",
       "\n",
       "                                              geometry  \n",
       "0    POLYGON ((-746187.429 -1058799.6, -746246.475 ...  \n",
       "1    POLYGON ((-746246.475 -1058799.6, -746305.52 -...  \n",
       "2    POLYGON ((-746305.52 -1058799.6, -746364.566 -...  \n",
       "3    POLYGON ((-746364.566 -1058799.6, -746423.611 ...  \n",
       "4    POLYGON ((-746423.611 -1058799.6, -746482.657 ...  \n",
       "..                                                 ...  \n",
       "645  POLYGON ((-746482.657 -1057257.329, -746423.61...  \n",
       "646  POLYGON ((-746423.611 -1057257.329, -746364.56...  \n",
       "647  POLYGON ((-746364.566 -1057257.329, -746305.52...  \n",
       "648  POLYGON ((-746305.52 -1057257.329, -746246.475...  \n",
       "649  POLYGON ((-746246.475 -1057257.329, -746187.42...  \n",
       "\n",
       "[650 rows x 4 columns]"
      ]
     },
     "execution_count": 140,
     "metadata": {},
     "output_type": "execute_result"
    }
   ],
   "source": [
    "read_pixels"
   ]
  },
  {
   "cell_type": "code",
   "execution_count": 141,
   "metadata": {},
   "outputs": [],
   "source": [
    "pic = temp_pictures['geometry'][0]"
   ]
  },
  {
   "cell_type": "code",
   "execution_count": 142,
   "metadata": {},
   "outputs": [],
   "source": [
    "noise_for_pixel = gpd.clip(noise, pic)\n",
    "roads_for_pixel = gpd.clip(roads, pic)\n",
    "transport_lines_for_picture = gpd.clip(transport_lines, pic)"
   ]
  },
  {
   "cell_type": "code",
   "execution_count": 143,
   "metadata": {},
   "outputs": [
    {
     "data": {
      "text/plain": [
       "<Projected CRS: EPSG:5514>\n",
       "Name: S-JTSK / Krovak East North\n",
       "Axis Info [cartesian]:\n",
       "- X[east]: Easting (metre)\n",
       "- Y[north]: Northing (metre)\n",
       "Area of Use:\n",
       "- name: Czechia; Slovakia.\n",
       "- bounds: (12.09, 47.73, 22.56, 51.06)\n",
       "Coordinate Operation:\n",
       "- name: Krovak East North (Greenwich)\n",
       "- method: Krovak (North Orientated)\n",
       "Datum: System of the Unified Trigonometrical Cadastral Network\n",
       "- Ellipsoid: Bessel 1841\n",
       "- Prime Meridian: Greenwich"
      ]
     },
     "execution_count": 143,
     "metadata": {},
     "output_type": "execute_result"
    }
   ],
   "source": [
    "read_pixels.crs"
   ]
  },
  {
   "cell_type": "code",
   "execution_count": 144,
   "metadata": {},
   "outputs": [
    {
     "data": {
      "text/plain": [
       "<Projected CRS: EPSG:5514>\n",
       "Name: S-JTSK / Krovak East North\n",
       "Axis Info [cartesian]:\n",
       "- X[east]: Easting (metre)\n",
       "- Y[north]: Northing (metre)\n",
       "Area of Use:\n",
       "- name: Czechia; Slovakia.\n",
       "- bounds: (12.09, 47.73, 22.56, 51.06)\n",
       "Coordinate Operation:\n",
       "- name: Krovak East North (Greenwich)\n",
       "- method: Krovak (North Orientated)\n",
       "Datum: System of the Unified Trigonometrical Cadastral Network\n",
       "- Ellipsoid: Bessel 1841\n",
       "- Prime Meridian: Greenwich"
      ]
     },
     "execution_count": 144,
     "metadata": {},
     "output_type": "execute_result"
    }
   ],
   "source": [
    "roads.crs"
   ]
  },
  {
   "cell_type": "code",
   "execution_count": 145,
   "metadata": {},
   "outputs": [
    {
     "data": {
      "image/png": "[encoded data removed]",
      "text/plain": [
       "<Figure size 1000x1000 with 1 Axes>"
      ]
     },
     "metadata": {},
     "output_type": "display_data"
    }
   ],
   "source": [
    "fig, ax = plt.subplots(figsize=(10, 10))\n",
    "\n",
    "noise_for_pixel.plot(\n",
    "    column=\"DB_HI\",\n",
    "    cmap=\"hot_r\",\n",
    "    scheme=\"quantiles\",\n",
    "    k=noise.shape[0],\n",
    "    edgecolor=\"white\",\n",
    "    linewidth=0.0,\n",
    "    alpha=0.5,\n",
    "    ax=ax,\n",
    ")\n",
    "transport_lines_for_picture.plot(ax=ax, alpha = 0.3, color=\"purple\",edgecolor=\"purple\", linewidth=1.5)\n",
    "\n",
    "roads_for_pixel.plot(ax=ax, alpha = 0.3, color=\"black\",edgecolor=\"black\", linewidth=1.5)\n",
    "read_pixels.plot(column='weighted_db_hi', ax=ax,\n",
    "            cmap=\"hot_r\", linewidth=0.0, edgecolor=\"0.8\", alpha = 1)\n",
    "\n",
    "plt.show()"
   ]
  },
  {
   "cell_type": "code",
   "execution_count": 146,
   "metadata": {},
   "outputs": [
    {
     "name": "stderr",
     "output_type": "stream",
     "text": [
      "C:\\Users\\kajet\\AppData\\Local\\Temp\\ipykernel_8628\\2952187598.py:16: UserWarning: Legend does not support handles for PatchCollection instances.\n",
      "See: https://matplotlib.org/stable/tutorials/intermediate/legend_guide.html#implementing-a-custom-legend-handler\n",
      "  ax.legend(loc=\"upper left\")\n"
     ]
    },
    {
     "data": {
      "image/png": "[encoded data removed]",
      "text/plain": [
       "<Figure size 1000x1000 with 1 Axes>"
      ]
     },
     "metadata": {},
     "output_type": "display_data"
    }
   ],
   "source": [
    "import matplotlib.pyplot as plt\n",
    "\n",
    "# Create a figure and axis\n",
    "fig, ax = plt.subplots(figsize=(10, 10))\n",
    "\n",
    "# Plot the roads in black\n",
    "transport_lines_for_picture.plot(ax=ax, color=\"black\", linewidth=1, label=\"Roads\")\n",
    "\n",
    "# Plot the squares that contain roads in green\n",
    "read_pixels[read_pixels['has_transport_line']].plot(ax=ax, color=\"green\", edgecolor=\"black\", alpha=0.2, label=\"Squares with Roads\")\n",
    "\n",
    "# Plot the squares that do not contain roads in red\n",
    "read_pixels[~read_pixels['has_transport_line']].plot(ax=ax, color=\"white\", edgecolor=\"black\", alpha=0.5, label=\"Squares without Roads\")\n",
    "\n",
    "# Add legend\n",
    "ax.legend(loc=\"upper left\")\n",
    "\n",
    "# Add title and labels\n",
    "ax.set_title(\"Roads and Squares\")\n",
    "ax.set_xlabel(\"Longitude\")\n",
    "ax.set_ylabel(\"Latitude\")\n",
    "\n",
    "# Show the plot\n",
    "plt.show()"
   ]
  },
  {
   "cell_type": "code",
   "execution_count": 147,
   "metadata": {},
   "outputs": [
    {
     "data": {
      "image/png": "[encoded data removed]",
      "text/plain": [
       "<Figure size 1000x1000 with 2 Axes>"
      ]
     },
     "metadata": {},
     "output_type": "display_data"
    }
   ],
   "source": [
    "fig, ax = plt.subplots(figsize=(10, 10))\n",
    "\n",
    "read_pixels.plot(column='max_speed', ax=ax,\n",
    "            cmap=\"viridis\", linewidth=0.0, edgecolor=\"0.8\", legend=True, legend_kwds={'label': \"Max Speed (km/h)\", \n",
    "                                           'orientation': \"vertical\"})\n",
    "\n",
    "roads_for_pixel.plot(ax=ax, alpha = 1, color=\"black\", linewidth=1.5)\n",
    "\n",
    "plt.show()"
   ]
  },
  {
   "cell_type": "code",
   "execution_count": 148,
   "metadata": {},
   "outputs": [
    {
     "data": {
      "text/plain": [
       "array([ 0., 40.])"
      ]
     },
     "execution_count": 148,
     "metadata": {},
     "output_type": "execute_result"
    }
   ],
   "source": [
    "read_pixels['max_speed'].unique()"
   ]
  },
  {
   "cell_type": "code",
   "execution_count": null,
   "metadata": {},
   "outputs": [],
   "source": []
  }
 ],
 "metadata": {
  "kernelspec": {
   "display_name": ".venv",
   "language": "python",
   "name": "python3"
  },
  "language_info": {
   "codemirror_mode": {
    "name": "ipython",
    "version": 3
   },
   "file_extension": ".py",
   "mimetype": "text/x-python",
   "name": "python",
   "nbconvert_exporter": "python",
   "pygments_lexer": "ipython3",
   "version": "3.11.2"
  }
 },
 "nbformat": 4,
 "nbformat_minor": 2
}
