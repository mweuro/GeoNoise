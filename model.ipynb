{
 "cells": [
  {
   "cell_type": "code",
   "execution_count": 35,
   "metadata": {},
   "outputs": [
    {
     "name": "stderr",
     "output_type": "stream",
     "text": [
      "/tmp/ipykernel_79154/4075737016.py:5: FutureWarning: You are using `torch.load` with `weights_only=False` (the current default value), which uses the default pickle module implicitly. It is possible to construct malicious pickle data which will execute arbitrary code during unpickling (See https://github.com/pytorch/pytorch/blob/main/SECURITY.md#untrusted-models for more details). In a future release, the default value for `weights_only` will be flipped to `True`. This limits the functions that could be executed during unpickling. Arbitrary objects will no longer be allowed to be loaded via this mode unless they are explicitly allowlisted by the user via `torch.serialization.add_safe_globals`. We recommend you start setting `weights_only=True` for any use case where you don't have full control of the loaded file. Please open an issue on GitHub for any issues related to this experimental feature.\n",
      "  data = torch.load('temp/tensors.pt')\n"
     ]
    },
    {
     "data": {
      "text/plain": [
       "torch.Size([262, 26, 25, 7])"
      ]
     },
     "execution_count": 35,
     "metadata": {},
     "output_type": "execute_result"
    }
   ],
   "source": [
    "import torch\n",
    "from torch.utils.data import TensorDataset, DataLoader, Subset\n",
    "\n",
    "# data = torch.load('data_to_train/tensors.pt')\n",
    "data = torch.load('temp/tensors.pt')\n",
    "data.shape"
   ]
  },
  {
   "cell_type": "code",
   "execution_count": 44,
   "metadata": {},
   "outputs": [],
   "source": [
    "def create_dataset(data):\n",
    "    labels = data[..., 0]\n",
    "    features = data[..., 1:]\n",
    "    features = features.permute(0, 3, 1, 2).contiguous()\n",
    "    dataset = TensorDataset(features, labels)\n",
    "    return dataset\n",
    "\n",
    "\n",
    "def train_val_test_split(dataset, val_indices, test_indices):\n",
    "    all_indices = set(range(len(dataset)))\n",
    "    train_indices = list(all_indices - set(val_indices) - set(test_indices))\n",
    "    train_indices.sort()\n",
    "    train_dataset = Subset(dataset, train_indices)\n",
    "    val_dataset = Subset(dataset, val_indices)\n",
    "    test_dataset = Subset(dataset, test_indices)\n",
    "    return train_dataset, val_dataset, test_dataset"
   ]
  },
  {
   "cell_type": "code",
   "execution_count": 45,
   "metadata": {},
   "outputs": [
    {
     "name": "stdout",
     "output_type": "stream",
     "text": [
      "Train dataset size: 210\n",
      "Validation dataset size: 26\n",
      "Test dataset size: 26\n"
     ]
    }
   ],
   "source": [
    "dataset = create_dataset(data)\n",
    "val_indices = [20, 33, 52, 71, 90, 110, 132, 155, 177, 197, 219, 237, 250, 257, 22, 39, 58, 77, 96, 116, 138, 161, 183, 203, 225, 243]\n",
    "test_indices = [21, 34, 53, 72, 91, 111, 133, 154, 178, 198, 220, 238, 251, 258, 23, 40, 59, 78, 97, 117, 139, 162, 184, 204, 226, 244]\n",
    "train_dataset, val_dataset, test_dataset = train_val_test_split(dataset, val_indices, test_indices)\n",
    "\n",
    "batch_size = 32\n",
    "train_loader = DataLoader(train_dataset, batch_size=batch_size, shuffle=True)\n",
    "val_loader = DataLoader(val_dataset, batch_size=batch_size, shuffle=False)\n",
    "test_loader = DataLoader(test_dataset, batch_size=batch_size, shuffle=False)\n",
    "\n",
    "print(\"Train dataset size:\", len(train_dataset))\n",
    "print(\"Validation dataset size:\", len(val_dataset))\n",
    "print(\"Test dataset size:\", len(test_dataset))"
   ]
  },
  {
   "cell_type": "code",
   "execution_count": 54,
   "metadata": {},
   "outputs": [
    {
     "name": "stdout",
     "output_type": "stream",
     "text": [
      "torch.Size([6, 26, 25])\n",
      "torch.Size([26, 25])\n"
     ]
    }
   ],
   "source": [
    "i, j = train_dataset[0]\n",
    "print(i.shape)\n",
    "print(j.shape)"
   ]
  },
  {
   "cell_type": "code",
   "execution_count": 56,
   "metadata": {},
   "outputs": [
    {
     "name": "stdout",
     "output_type": "stream",
     "text": [
      "tensor([[55., 50., 50., 50., 50., 45., 45., 45., 45., 45., 45., 45., 45., 65.,\n",
      "         60., 55., 25.,  0.,  0.,  0.,  0.,  0.,  0.,  0.,  0.],\n",
      "        [55., 50., 50., 50., 50., 50., 45., 45., 45., 45., 45., 45., 50., 65.,\n",
      "         60., 55., 10.,  0.,  0.,  0.,  0.,  0.,  0.,  0.,  0.],\n",
      "        [50., 50., 50., 50., 50., 50., 45., 45., 45., 45., 40., 45., 60., 65.,\n",
      "         55., 50.,  0.,  0.,  0.,  0.,  0.,  0.,  0.,  0.,  0.],\n",
      "        [50., 50., 50., 50., 50., 50., 45., 45., 45., 45., 40., 50., 60., 60.,\n",
      "         55., 30.,  0.,  0.,  0.,  0.,  0.,  0.,  0.,  0.,  0.],\n",
      "        [50., 50., 50., 50., 50., 45., 45., 45., 45., 45., 45., 55., 65., 60.,\n",
      "         55., 25.,  0.,  0.,  0.,  0.,  0.,  0.,  0.,  0.,  0.],\n",
      "        [50., 50., 50., 45., 45., 45., 45., 45., 45., 45., 55., 55., 65., 60.,\n",
      "         55., 15.,  0.,  0.,  0.,  0.,  0.,  0.,  0.,  0.,  0.],\n",
      "        [50., 50., 50., 45., 45., 45., 45., 45., 45., 50., 55., 65., 65., 55.,\n",
      "         55., 15.,  0.,  0.,  0.,  0.,  0.,  0.,  0.,  0.,  0.],\n",
      "        [50., 50., 45., 45., 45., 45., 45., 45., 50., 50., 55., 65., 60., 55.,\n",
      "         55., 15.,  0.,  0.,  0.,  0.,  0.,  0.,  0.,  0.,  0.],\n",
      "        [50., 45., 45., 45., 45., 45., 40., 45., 45., 50., 55., 65., 60., 55.,\n",
      "         55., 10.,  0.,  0.,  0.,  0.,  0.,  0.,  0.,  0.,  0.],\n",
      "        [45., 45., 45., 45., 45., 40., 40., 45., 50., 55., 55., 65., 60., 55.,\n",
      "         55.,  5.,  0.,  0.,  0.,  0.,  0.,  0.,  0.,  0.,  0.],\n",
      "        [15., 20., 25., 25., 10.,  5., 10., 45., 50., 55., 55., 65., 60., 55.,\n",
      "         55.,  5.,  0.,  0.,  0.,  0.,  0.,  0.,  0.,  0.,  0.],\n",
      "        [ 0.,  0.,  0.,  0.,  0.,  0.,  0., 40., 50., 55., 55., 65., 60., 55.,\n",
      "         55.,  5.,  0.,  0.,  0.,  0.,  0.,  0.,  0.,  0.,  0.],\n",
      "        [ 0.,  0.,  0.,  0.,  0.,  0.,  0., 30., 50., 50., 55., 65., 60., 55.,\n",
      "         55.,  5.,  0.,  0.,  0.,  0.,  0.,  0.,  0.,  0.,  0.],\n",
      "        [ 0.,  0.,  0.,  0.,  0.,  0.,  0., 30., 50., 50., 50., 60., 65., 55.,\n",
      "         55., 10.,  0.,  0.,  0.,  0.,  0.,  0.,  0.,  0.,  0.],\n",
      "        [ 0.,  0.,  0.,  0.,  0.,  0.,  0., 40., 50., 50., 55., 60., 65., 55.,\n",
      "         55., 15.,  0.,  0.,  0.,  0.,  0.,  0.,  0.,  0.,  0.],\n",
      "        [ 0.,  0.,  0.,  0.,  0.,  0.,  0., 40., 50., 50., 50., 55., 65., 60.,\n",
      "         55., 25.,  0.,  0.,  0.,  0.,  0.,  0.,  0.,  0.,  0.],\n",
      "        [ 0.,  0.,  0.,  0.,  0.,  0.,  0., 40., 50., 50., 50., 55., 65., 60.,\n",
      "         55., 35.,  0.,  0.,  0.,  0.,  0.,  0.,  0.,  0.,  0.],\n",
      "        [ 0.,  0.,  0.,  0.,  0.,  0.,  5., 45., 50., 50., 50., 50., 65., 65.,\n",
      "         55., 35.,  0.,  0.,  0.,  0.,  0.,  0.,  0.,  0.,  0.],\n",
      "        [ 0.,  0.,  0.,  0.,  0.,  0.,  5., 45., 45., 50., 50., 55., 60., 65.,\n",
      "         55., 45.,  0.,  0.,  0.,  0.,  0.,  0.,  0.,  0.,  0.],\n",
      "        [ 0.,  0.,  0.,  0.,  0.,  0.,  0., 10., 45., 50., 50., 50., 55., 65.,\n",
      "         55., 55.,  0.,  0.,  0.,  0.,  0.,  0.,  0.,  0.,  0.],\n",
      "        [ 0.,  0.,  0.,  0.,  0.,  0.,  0.,  0., 15., 50., 50., 50., 55., 65.,\n",
      "         60., 55.,  5.,  0.,  0.,  0.,  0.,  0.,  0.,  0.,  0.],\n",
      "        [ 0.,  0.,  0.,  0.,  0.,  0.,  0.,  0.,  5., 35., 50., 55., 60., 65.,\n",
      "         60., 55.,  5.,  0.,  0.,  0.,  0.,  0.,  0.,  0.,  0.],\n",
      "        [ 0.,  0.,  0.,  0.,  0.,  0.,  0.,  0.,  0.,  0., 35., 60., 65., 65.,\n",
      "         55., 50.,  0.,  0.,  0.,  0.,  0.,  0.,  0.,  0.,  0.],\n",
      "        [ 0.,  0.,  0.,  0.,  0.,  0.,  0.,  0.,  0.,  0.,  0., 45., 65., 55.,\n",
      "         55., 45.,  0.,  0.,  0.,  0.,  0.,  0.,  0.,  0.,  0.],\n",
      "        [ 0.,  0.,  0.,  0.,  0.,  0.,  0.,  0.,  0.,  0.,  0.,  0., 35., 55.,\n",
      "         55., 15.,  0.,  0.,  0.,  0.,  0.,  0.,  0.,  0.,  0.],\n",
      "        [ 0.,  0.,  0.,  0.,  0.,  0.,  0.,  0.,  0.,  0.,  0.,  0.,  0., 35.,\n",
      "         25.,  0.,  0.,  0.,  0.,  0.,  0.,  0.,  0.,  0.,  0.]],\n",
      "       dtype=torch.float64)\n"
     ]
    }
   ],
   "source": [
    "print(j)"
   ]
  },
  {
   "cell_type": "code",
   "execution_count": null,
   "metadata": {},
   "outputs": [],
   "source": [
    "# import torch\n",
    "# import torch.nn as nn\n",
    "# import torch.optim as optim\n",
    "\n",
    "# # Example input data and labels\n",
    "# batch_size, height, width, channels = 8, 32, 32, 3\n",
    "# num_classes = 10\n",
    "\n",
    "# input_data = torch.randn(batch_size, channels, height, width)\n",
    "# labels = torch.randint(0, 2, (batch_size, height, width))\n",
    "\n",
    "# # Create a binary mask\n",
    "# mask = (labels != 0).float()\n",
    "# mask = mask.unsqueeze(1)  # Expand dimensions to match input data\n",
    "\n",
    "# # Apply the mask to the input data\n",
    "# masked_input = input_data * mask\n",
    "\n",
    "# # Define the CNN model\n",
    "# class CNN(nn.Module):\n",
    "#     def __init__(self):\n",
    "#         super(CNN, self).__init__()\n",
    "#         self.conv1 = nn.Conv2d(channels, 32, kernel_size=3, padding=1)\n",
    "#         self.pool = nn.MaxPool2d(kernel_size=2, stride=2, padding=0)\n",
    "#         self.conv2 = nn.Conv2d(32, 64, kernel_size=3, padding=1)\n",
    "#         self.conv3 = nn.Conv2d(64, 64, kernel_size=3, padding=1)\n",
    "#         self.fc1 = nn.Linear(64 * (height // 4) * (width // 4), 64)\n",
    "#         self.fc2 = nn.Linear(64, num_classes)\n",
    "\n",
    "#     def forward(self, x):\n",
    "#         x = self.pool(torch.relu(self.conv1(x)))\n",
    "#         x = self.pool(torch.relu(self.conv2(x)))\n",
    "#         x = torch.relu(self.conv3(x))\n",
    "#         x = x.view(-1, 64 * (height // 4) * (width // 4))\n",
    "#         x = torch.relu(self.fc1(x))\n",
    "#         x = self.fc2(x)\n",
    "#         return x\n",
    "\n",
    "# # Instantiate the model, define the loss function and the optimizer\n",
    "# model = CNN()\n",
    "# criterion = nn.CrossEntropyLoss()\n",
    "# optimizer = optim.Adam(model.parameters(), lr=0.001)\n",
    "\n",
    "# # Training loop\n",
    "# num_epochs = 10\n",
    "# for epoch in range(num_epochs):\n",
    "#     optimizer.zero_grad()\n",
    "#     outputs = model(masked_input)\n",
    "#     loss = criterion(outputs, labels.view(-1))\n",
    "#     loss.backward()\n",
    "#     optimizer.step()\n",
    "#     print(f'Epoch [{epoch+1}/{num_epochs}], Loss: {loss.item():.4f}')"
   ]
  },
  {
   "cell_type": "code",
   "execution_count": 59,
   "metadata": {},
   "outputs": [
    {
     "name": "stdout",
     "output_type": "stream",
     "text": [
      "torch.Size([1, 18, 26, 25])\n"
     ]
    },
    {
     "ename": "ValueError",
     "evalue": "Expected input batch_size (650) to match target batch_size (350).",
     "output_type": "error",
     "traceback": [
      "\u001b[0;31m---------------------------------------------------------------------------\u001b[0m",
      "\u001b[0;31mValueError\u001b[0m                                Traceback (most recent call last)",
      "Cell \u001b[0;32mIn[59], line 80\u001b[0m\n\u001b[1;32m     73\u001b[0m labels \u001b[38;5;241m=\u001b[39m labels\u001b[38;5;241m.\u001b[39mview(\u001b[38;5;241m-\u001b[39m\u001b[38;5;241m1\u001b[39m)\n\u001b[1;32m     75\u001b[0m \u001b[38;5;66;03m# Zastosowanie maski\u001b[39;00m\n\u001b[1;32m     76\u001b[0m \u001b[38;5;66;03m# output = output[mask.view(-1)]\u001b[39;00m\n\u001b[1;32m     77\u001b[0m \u001b[38;5;66;03m# labels = labels[mask.view(-1)] - 1  # Przesunięcie etykiet o 1, aby zaczynały się od 0\u001b[39;00m\n\u001b[1;32m     78\u001b[0m \n\u001b[1;32m     79\u001b[0m \u001b[38;5;66;03m# Obliczenie straty\u001b[39;00m\n\u001b[0;32m---> 80\u001b[0m loss \u001b[38;5;241m=\u001b[39m \u001b[43mcriterion\u001b[49m\u001b[43m(\u001b[49m\u001b[43moutput\u001b[49m\u001b[43m,\u001b[49m\u001b[43m \u001b[49m\u001b[43mlabels\u001b[49m\u001b[43m)\u001b[49m\n\u001b[1;32m     81\u001b[0m \u001b[38;5;28mprint\u001b[39m(loss\u001b[38;5;241m.\u001b[39mitem())\n",
      "File \u001b[0;32m~/venvy/spatial/lib/python3.10/site-packages/torch/nn/modules/module.py:1736\u001b[0m, in \u001b[0;36mModule._wrapped_call_impl\u001b[0;34m(self, *args, **kwargs)\u001b[0m\n\u001b[1;32m   1734\u001b[0m     \u001b[38;5;28;01mreturn\u001b[39;00m \u001b[38;5;28mself\u001b[39m\u001b[38;5;241m.\u001b[39m_compiled_call_impl(\u001b[38;5;241m*\u001b[39margs, \u001b[38;5;241m*\u001b[39m\u001b[38;5;241m*\u001b[39mkwargs)  \u001b[38;5;66;03m# type: ignore[misc]\u001b[39;00m\n\u001b[1;32m   1735\u001b[0m \u001b[38;5;28;01melse\u001b[39;00m:\n\u001b[0;32m-> 1736\u001b[0m     \u001b[38;5;28;01mreturn\u001b[39;00m \u001b[38;5;28;43mself\u001b[39;49m\u001b[38;5;241;43m.\u001b[39;49m\u001b[43m_call_impl\u001b[49m\u001b[43m(\u001b[49m\u001b[38;5;241;43m*\u001b[39;49m\u001b[43margs\u001b[49m\u001b[43m,\u001b[49m\u001b[43m \u001b[49m\u001b[38;5;241;43m*\u001b[39;49m\u001b[38;5;241;43m*\u001b[39;49m\u001b[43mkwargs\u001b[49m\u001b[43m)\u001b[49m\n",
      "File \u001b[0;32m~/venvy/spatial/lib/python3.10/site-packages/torch/nn/modules/module.py:1747\u001b[0m, in \u001b[0;36mModule._call_impl\u001b[0;34m(self, *args, **kwargs)\u001b[0m\n\u001b[1;32m   1742\u001b[0m \u001b[38;5;66;03m# If we don't have any hooks, we want to skip the rest of the logic in\u001b[39;00m\n\u001b[1;32m   1743\u001b[0m \u001b[38;5;66;03m# this function, and just call forward.\u001b[39;00m\n\u001b[1;32m   1744\u001b[0m \u001b[38;5;28;01mif\u001b[39;00m \u001b[38;5;129;01mnot\u001b[39;00m (\u001b[38;5;28mself\u001b[39m\u001b[38;5;241m.\u001b[39m_backward_hooks \u001b[38;5;129;01mor\u001b[39;00m \u001b[38;5;28mself\u001b[39m\u001b[38;5;241m.\u001b[39m_backward_pre_hooks \u001b[38;5;129;01mor\u001b[39;00m \u001b[38;5;28mself\u001b[39m\u001b[38;5;241m.\u001b[39m_forward_hooks \u001b[38;5;129;01mor\u001b[39;00m \u001b[38;5;28mself\u001b[39m\u001b[38;5;241m.\u001b[39m_forward_pre_hooks\n\u001b[1;32m   1745\u001b[0m         \u001b[38;5;129;01mor\u001b[39;00m _global_backward_pre_hooks \u001b[38;5;129;01mor\u001b[39;00m _global_backward_hooks\n\u001b[1;32m   1746\u001b[0m         \u001b[38;5;129;01mor\u001b[39;00m _global_forward_hooks \u001b[38;5;129;01mor\u001b[39;00m _global_forward_pre_hooks):\n\u001b[0;32m-> 1747\u001b[0m     \u001b[38;5;28;01mreturn\u001b[39;00m \u001b[43mforward_call\u001b[49m\u001b[43m(\u001b[49m\u001b[38;5;241;43m*\u001b[39;49m\u001b[43margs\u001b[49m\u001b[43m,\u001b[49m\u001b[43m \u001b[49m\u001b[38;5;241;43m*\u001b[39;49m\u001b[38;5;241;43m*\u001b[39;49m\u001b[43mkwargs\u001b[49m\u001b[43m)\u001b[49m\n\u001b[1;32m   1749\u001b[0m result \u001b[38;5;241m=\u001b[39m \u001b[38;5;28;01mNone\u001b[39;00m\n\u001b[1;32m   1750\u001b[0m called_always_called_hooks \u001b[38;5;241m=\u001b[39m \u001b[38;5;28mset\u001b[39m()\n",
      "File \u001b[0;32m~/venvy/spatial/lib/python3.10/site-packages/torch/nn/modules/loss.py:1293\u001b[0m, in \u001b[0;36mCrossEntropyLoss.forward\u001b[0;34m(self, input, target)\u001b[0m\n\u001b[1;32m   1292\u001b[0m \u001b[38;5;28;01mdef\u001b[39;00m\u001b[38;5;250m \u001b[39m\u001b[38;5;21mforward\u001b[39m(\u001b[38;5;28mself\u001b[39m, \u001b[38;5;28minput\u001b[39m: Tensor, target: Tensor) \u001b[38;5;241m-\u001b[39m\u001b[38;5;241m>\u001b[39m Tensor:\n\u001b[0;32m-> 1293\u001b[0m     \u001b[38;5;28;01mreturn\u001b[39;00m \u001b[43mF\u001b[49m\u001b[38;5;241;43m.\u001b[39;49m\u001b[43mcross_entropy\u001b[49m\u001b[43m(\u001b[49m\n\u001b[1;32m   1294\u001b[0m \u001b[43m        \u001b[49m\u001b[38;5;28;43minput\u001b[39;49m\u001b[43m,\u001b[49m\n\u001b[1;32m   1295\u001b[0m \u001b[43m        \u001b[49m\u001b[43mtarget\u001b[49m\u001b[43m,\u001b[49m\n\u001b[1;32m   1296\u001b[0m \u001b[43m        \u001b[49m\u001b[43mweight\u001b[49m\u001b[38;5;241;43m=\u001b[39;49m\u001b[38;5;28;43mself\u001b[39;49m\u001b[38;5;241;43m.\u001b[39;49m\u001b[43mweight\u001b[49m\u001b[43m,\u001b[49m\n\u001b[1;32m   1297\u001b[0m \u001b[43m        \u001b[49m\u001b[43mignore_index\u001b[49m\u001b[38;5;241;43m=\u001b[39;49m\u001b[38;5;28;43mself\u001b[39;49m\u001b[38;5;241;43m.\u001b[39;49m\u001b[43mignore_index\u001b[49m\u001b[43m,\u001b[49m\n\u001b[1;32m   1298\u001b[0m \u001b[43m        \u001b[49m\u001b[43mreduction\u001b[49m\u001b[38;5;241;43m=\u001b[39;49m\u001b[38;5;28;43mself\u001b[39;49m\u001b[38;5;241;43m.\u001b[39;49m\u001b[43mreduction\u001b[49m\u001b[43m,\u001b[49m\n\u001b[1;32m   1299\u001b[0m \u001b[43m        \u001b[49m\u001b[43mlabel_smoothing\u001b[49m\u001b[38;5;241;43m=\u001b[39;49m\u001b[38;5;28;43mself\u001b[39;49m\u001b[38;5;241;43m.\u001b[39;49m\u001b[43mlabel_smoothing\u001b[49m\u001b[43m,\u001b[49m\n\u001b[1;32m   1300\u001b[0m \u001b[43m    \u001b[49m\u001b[43m)\u001b[49m\n",
      "File \u001b[0;32m~/venvy/spatial/lib/python3.10/site-packages/torch/nn/functional.py:3479\u001b[0m, in \u001b[0;36mcross_entropy\u001b[0;34m(input, target, weight, size_average, ignore_index, reduce, reduction, label_smoothing)\u001b[0m\n\u001b[1;32m   3477\u001b[0m \u001b[38;5;28;01mif\u001b[39;00m size_average \u001b[38;5;129;01mis\u001b[39;00m \u001b[38;5;129;01mnot\u001b[39;00m \u001b[38;5;28;01mNone\u001b[39;00m \u001b[38;5;129;01mor\u001b[39;00m reduce \u001b[38;5;129;01mis\u001b[39;00m \u001b[38;5;129;01mnot\u001b[39;00m \u001b[38;5;28;01mNone\u001b[39;00m:\n\u001b[1;32m   3478\u001b[0m     reduction \u001b[38;5;241m=\u001b[39m _Reduction\u001b[38;5;241m.\u001b[39mlegacy_get_string(size_average, reduce)\n\u001b[0;32m-> 3479\u001b[0m \u001b[38;5;28;01mreturn\u001b[39;00m \u001b[43mtorch\u001b[49m\u001b[38;5;241;43m.\u001b[39;49m\u001b[43m_C\u001b[49m\u001b[38;5;241;43m.\u001b[39;49m\u001b[43m_nn\u001b[49m\u001b[38;5;241;43m.\u001b[39;49m\u001b[43mcross_entropy_loss\u001b[49m\u001b[43m(\u001b[49m\n\u001b[1;32m   3480\u001b[0m \u001b[43m    \u001b[49m\u001b[38;5;28;43minput\u001b[39;49m\u001b[43m,\u001b[49m\n\u001b[1;32m   3481\u001b[0m \u001b[43m    \u001b[49m\u001b[43mtarget\u001b[49m\u001b[43m,\u001b[49m\n\u001b[1;32m   3482\u001b[0m \u001b[43m    \u001b[49m\u001b[43mweight\u001b[49m\u001b[43m,\u001b[49m\n\u001b[1;32m   3483\u001b[0m \u001b[43m    \u001b[49m\u001b[43m_Reduction\u001b[49m\u001b[38;5;241;43m.\u001b[39;49m\u001b[43mget_enum\u001b[49m\u001b[43m(\u001b[49m\u001b[43mreduction\u001b[49m\u001b[43m)\u001b[49m\u001b[43m,\u001b[49m\n\u001b[1;32m   3484\u001b[0m \u001b[43m    \u001b[49m\u001b[43mignore_index\u001b[49m\u001b[43m,\u001b[49m\n\u001b[1;32m   3485\u001b[0m \u001b[43m    \u001b[49m\u001b[43mlabel_smoothing\u001b[49m\u001b[43m,\u001b[49m\n\u001b[1;32m   3486\u001b[0m \u001b[43m\u001b[49m\u001b[43m)\u001b[49m\n",
      "\u001b[0;31mValueError\u001b[0m: Expected input batch_size (650) to match target batch_size (350)."
     ]
    }
   ],
   "source": [
    "import torch\n",
    "import torch.nn as nn\n",
    "import torch.nn.functional as F\n",
    "\n",
    "class SegmentationCNN(nn.Module):\n",
    "    def __init__(self, in_channels=6, num_classes=18):\n",
    "        super(SegmentationCNN, self).__init__()\n",
    "        self.conv1 = nn.Conv2d(in_channels, 32, kernel_size=3, padding=1)\n",
    "        self.bn1   = nn.BatchNorm2d(32)\n",
    "        self.conv2 = nn.Conv2d(32, 64, kernel_size=3, padding=1)\n",
    "        self.bn2   = nn.BatchNorm2d(64)\n",
    "        self.conv3 = nn.Conv2d(64, 128, kernel_size=3, padding=1)\n",
    "        self.bn3   = nn.BatchNorm2d(128)\n",
    "        self.conv4 = nn.Conv2d(128, num_classes, kernel_size=3, padding=1)\n",
    "        \n",
    "    def forward(self, x):\n",
    "        x = F.relu(self.bn1(self.conv1(x)))\n",
    "        x = F.relu(self.bn2(self.conv2(x)))\n",
    "        x = F.relu(self.bn3(self.conv3(x)))\n",
    "        x = self.conv4(x)\n",
    "        return x\n",
    "\n",
    "# Przykładowe dane wejściowe\n",
    "input_tensor = torch.randn(1, 6, 26, 25)\n",
    "model = SegmentationCNN()\n",
    "output = model(input_tensor)\n",
    "print(output.shape)  # Powinno być torch.Size([1, 18, 26, 25])\n",
    "\n",
    "# Przykładowe etykiety\n",
    "labels = torch.tensor([[55., 50., 50., 50., 50., 45., 45., 45., 45., 45., 45., 45., 45., 65.,\n",
    "                        60., 55., 25.,  0.,  0.,  0.,  0.,  0.,  0.,  0.,  0.],\n",
    "                       [55., 50., 50., 50., 50., 50., 45., 45., 45., 45., 45., 45., 50., 65.,\n",
    "                        60., 55., 10.,  0.,  0.,  0.,  0.,  0.,  0.,  0.,  0.],\n",
    "                       [50., 50., 50., 50., 50., 50., 45., 45., 45., 45., 40., 45., 60., 65.,\n",
    "                        55., 50.,  0.,  0.,  0.,  0.,  0.,  0.,  0.,  0.,  0.],\n",
    "                       [50., 50., 50., 50., 50., 50., 45., 45., 45., 45., 40., 50., 60., 60.,\n",
    "                        55., 30.,  0.,  0.,  0.,  0.,  0.,  0.,  0.,  0.,  0.],\n",
    "                       [50., 50., 50., 50., 50., 45., 45., 45., 45., 45., 45., 55., 65., 60.,\n",
    "                        55., 25.,  0.,  0.,  0.,  0.,  0.,  0.,  0.,  0.,  0.],\n",
    "                       [50., 50., 50., 45., 45., 45., 45., 45., 45., 45., 55., 55., 65., 60.,\n",
    "                        55., 15.,  0.,  0.,  0.,  0.,  0.,  0.,  0.,  0.,  0.],\n",
    "                       [50., 50., 50., 45., 45., 45., 45., 45., 45., 50., 55., 65., 65., 55.,\n",
    "                        55., 15.,  0.,  0.,  0.,  0.,  0.,  0.,  0.,  0.,  0.],\n",
    "                       [50., 50., 45., 45., 45., 45., 45., 45., 50., 50., 55., 65., 60., 55.,\n",
    "                        55., 15.,  0.,  0.,  0.,  0.,  0.,  0.,  0.,  0.,  0.],\n",
    "                       [50., 45., 45., 45., 45., 45., 40., 45., 45., 50., 55., 65., 60., 55.,\n",
    "                        55., 10.,  0.,  0.,  0.,  0.,  0.,  0.,  0.,  0.,  0.],\n",
    "                       [45., 45., 45., 45., 45., 40., 40., 45., 50., 55., 55., 65., 60., 55.,\n",
    "                        55.,  5.,  0.,  0.,  0.,  0.,  0.,  0.,  0.,  0.,  0.],\n",
    "                       [15., 20., 25., 25., 10.,  5., 10., 45., 50., 55., 55., 65., 60., 55.,\n",
    "                        55.,  5.,  0.,  0.,  0.,  0.,  0.,  0.,  0.,  0.,  0.],\n",
    "                       [ 0.,  0.,  0.,  0.,  0.,  0.,  0., 40., 50., 55., 55., 65., 60., 55.,\n",
    "                        55.,  5.,  0.,  0.,  0.,  0.,  0.,  0.,  0.,  0.,  0.],\n",
    "                       [ 0.,  0.,  0.,  0.,  0.,  0.,  0., 30., 50., 50., 55., 65., 60., 55.,\n",
    "                        55., 15.,  0.,  0.,  0.,  0.,  0.,  0.,  0.,  0.,  0.],\n",
    "                       [ 0.,  0.,  0.,  0.,  0.,  0.,  0.,  0.,  0.,  0.,  0.,  0.,  0., 35.,\n",
    "                        25.,  0.,  0.,  0.,  0.,  0.,  0.,  0.,  0.,  0.,  0.]], dtype=torch.float64)\n",
    "\n",
    "# Konwersja etykiet do typu long\n",
    "labels = labels.long()\n",
    "\n",
    "# Maskowanie klasy zerowej\n",
    "mask = labels != 0\n",
    "\n",
    "# Przykładowa funkcja straty\n",
    "criterion = nn.CrossEntropyLoss()\n",
    "\n",
    "# Przykładowe wyjście modelu\n",
    "output = model(input_tensor)\n",
    "\n",
    "# Przekształcenie wyjścia modelu i etykiet do odpowiednich kształtów\n",
    "output = output.permute(0, 2, 3, 1).contiguous().view(-1, 18)\n",
    "labels = labels.view(-1)\n",
    "\n",
    "# Zastosowanie maski\n",
    "# output = output[mask.view(-1)]\n",
    "# labels = labels[mask.view(-1)] - 1  # Przesunięcie etykiet o 1, aby zaczynały się od 0\n",
    "\n",
    "# Obliczenie straty\n",
    "loss = criterion(output, labels)\n",
    "print(loss.item())"
   ]
  }
 ],
 "metadata": {
  "kernelspec": {
   "display_name": "spatial",
   "language": "python",
   "name": "python3"
  },
  "language_info": {
   "codemirror_mode": {
    "name": "ipython",
    "version": 3
   },
   "file_extension": ".py",
   "mimetype": "text/x-python",
   "name": "python",
   "nbconvert_exporter": "python",
   "pygments_lexer": "ipython3",
   "version": "3.10.12"
  }
 },
 "nbformat": 4,
 "nbformat_minor": 2
}
